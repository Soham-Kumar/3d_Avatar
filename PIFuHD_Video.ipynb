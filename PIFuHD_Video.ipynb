{
  "nbformat": 4,
  "nbformat_minor": 0,
  "metadata": {
    "colab": {
      "provenance": [],
      "gpuType": "T4"
    },
    "kernelspec": {
      "name": "python3",
      "display_name": "Python 3"
    },
    "language_info": {
      "name": "python"
    },
    "accelerator": "GPU"
  },
  "cells": [
    {
      "cell_type": "code",
      "source": [
        "from google.colab import drive\n",
        "\n",
        "# Mount Google Drive\n",
        "drive.mount('/content/drive')\n"
      ],
      "metadata": {
        "colab": {
          "base_uri": "https://localhost:8080/"
        },
        "id": "Txi1iMqeQKyX",
        "outputId": "245fceeb-5ee9-4a6e-d2b4-447b1504af31"
      },
      "execution_count": null,
      "outputs": [
        {
          "output_type": "stream",
          "name": "stdout",
          "text": [
            "Mounted at /content/drive\n"
          ]
        }
      ]
    },
    {
      "cell_type": "code",
      "source": [
        "video_path = '/content/drive/MyDrive/3d Avatar Papers/Test_Images/test_video_360.mp4'"
      ],
      "metadata": {
        "id": "4qEozAFTQLhm"
      },
      "execution_count": null,
      "outputs": []
    },
    {
      "cell_type": "code",
      "execution_count": null,
      "metadata": {
        "id": "YBnGTZ0aKbyv"
      },
      "outputs": [],
      "source": [
        "# Get video, capture it frame by frame and initialise the path\n",
        "\n",
        "import cv2\n",
        "import os\n",
        "\n",
        "def extract_frames(video_path, output_directory):\n",
        "    cap = cv2.VideoCapture(video_path)\n",
        "    os.makedirs(output_directory, exist_ok=True)\n",
        "\n",
        "    frame_count = 0\n",
        "    while True:\n",
        "        ret, frame = cap.read()\n",
        "        if not ret:\n",
        "            break\n",
        "\n",
        "        frame_filename = os.path.join(output_directory, f\"frame_{frame_count:04d}.png\")\n",
        "        cv2.imwrite(frame_filename, frame, [cv2.IMWRITE_PNG_COMPRESSION, 0])\n",
        "\n",
        "        frame_count += 1\n",
        "    cap.release()\n",
        "\n",
        "# video_path = \"/content/test_video_360.mp4\"\n",
        "output_directory = \"/content/frames\"\n",
        "\n",
        "extract_frames(video_path, output_directory)\n",
        "\n",
        "image_path_list = []\n",
        "obj_path_list = []\n",
        "\n",
        "for i in range(len(os.listdir(output_directory))):\n",
        "  image_path_list.append(f\"/content/frames/frame_{i:04d}.png\")\n",
        "  obj_path_list.append(f\"/content/frames/frame_{i:04d}.obj\")\n",
        "\n",
        "image_dir = output_directory"
      ]
    },
    {
      "cell_type": "code",
      "source": [
        "print(image_path_list)"
      ],
      "metadata": {
        "colab": {
          "base_uri": "https://localhost:8080/"
        },
        "id": "zzpc8NL-THQn",
        "outputId": "ff0e8265-6cae-4bff-c34c-335967cefe41"
      },
      "execution_count": null,
      "outputs": [
        {
          "output_type": "stream",
          "name": "stdout",
          "text": [
            "['/content/frames/frame_0000.png', '/content/frames/frame_0001.png', '/content/frames/frame_0002.png', '/content/frames/frame_0003.png', '/content/frames/frame_0004.png', '/content/frames/frame_0005.png', '/content/frames/frame_0006.png', '/content/frames/frame_0007.png', '/content/frames/frame_0008.png', '/content/frames/frame_0009.png', '/content/frames/frame_0010.png', '/content/frames/frame_0011.png', '/content/frames/frame_0012.png', '/content/frames/frame_0013.png', '/content/frames/frame_0014.png', '/content/frames/frame_0015.png', '/content/frames/frame_0016.png', '/content/frames/frame_0017.png', '/content/frames/frame_0018.png', '/content/frames/frame_0019.png', '/content/frames/frame_0020.png', '/content/frames/frame_0021.png', '/content/frames/frame_0022.png', '/content/frames/frame_0023.png', '/content/frames/frame_0024.png', '/content/frames/frame_0025.png', '/content/frames/frame_0026.png', '/content/frames/frame_0027.png', '/content/frames/frame_0028.png', '/content/frames/frame_0029.png', '/content/frames/frame_0030.png', '/content/frames/frame_0031.png', '/content/frames/frame_0032.png', '/content/frames/frame_0033.png', '/content/frames/frame_0034.png', '/content/frames/frame_0035.png', '/content/frames/frame_0036.png', '/content/frames/frame_0037.png', '/content/frames/frame_0038.png', '/content/frames/frame_0039.png', '/content/frames/frame_0040.png', '/content/frames/frame_0041.png', '/content/frames/frame_0042.png', '/content/frames/frame_0043.png', '/content/frames/frame_0044.png', '/content/frames/frame_0045.png', '/content/frames/frame_0046.png', '/content/frames/frame_0047.png', '/content/frames/frame_0048.png', '/content/frames/frame_0049.png', '/content/frames/frame_0050.png', '/content/frames/frame_0051.png', '/content/frames/frame_0052.png', '/content/frames/frame_0053.png', '/content/frames/frame_0054.png', '/content/frames/frame_0055.png', '/content/frames/frame_0056.png', '/content/frames/frame_0057.png', '/content/frames/frame_0058.png', '/content/frames/frame_0059.png', '/content/frames/frame_0060.png', '/content/frames/frame_0061.png', '/content/frames/frame_0062.png', '/content/frames/frame_0063.png', '/content/frames/frame_0064.png', '/content/frames/frame_0065.png', '/content/frames/frame_0066.png', '/content/frames/frame_0067.png', '/content/frames/frame_0068.png', '/content/frames/frame_0069.png', '/content/frames/frame_0070.png', '/content/frames/frame_0071.png', '/content/frames/frame_0072.png', '/content/frames/frame_0073.png', '/content/frames/frame_0074.png', '/content/frames/frame_0075.png', '/content/frames/frame_0076.png', '/content/frames/frame_0077.png', '/content/frames/frame_0078.png', '/content/frames/frame_0079.png', '/content/frames/frame_0080.png', '/content/frames/frame_0081.png', '/content/frames/frame_0082.png', '/content/frames/frame_0083.png', '/content/frames/frame_0084.png', '/content/frames/frame_0085.png', '/content/frames/frame_0086.png', '/content/frames/frame_0087.png', '/content/frames/frame_0088.png', '/content/frames/frame_0089.png', '/content/frames/frame_0090.png', '/content/frames/frame_0091.png', '/content/frames/frame_0092.png', '/content/frames/frame_0093.png', '/content/frames/frame_0094.png', '/content/frames/frame_0095.png', '/content/frames/frame_0096.png', '/content/frames/frame_0097.png', '/content/frames/frame_0098.png', '/content/frames/frame_0099.png', '/content/frames/frame_0100.png', '/content/frames/frame_0101.png', '/content/frames/frame_0102.png', '/content/frames/frame_0103.png', '/content/frames/frame_0104.png', '/content/frames/frame_0105.png', '/content/frames/frame_0106.png', '/content/frames/frame_0107.png', '/content/frames/frame_0108.png', '/content/frames/frame_0109.png', '/content/frames/frame_0110.png', '/content/frames/frame_0111.png', '/content/frames/frame_0112.png', '/content/frames/frame_0113.png', '/content/frames/frame_0114.png', '/content/frames/frame_0115.png', '/content/frames/frame_0116.png', '/content/frames/frame_0117.png', '/content/frames/frame_0118.png', '/content/frames/frame_0119.png', '/content/frames/frame_0120.png', '/content/frames/frame_0121.png', '/content/frames/frame_0122.png', '/content/frames/frame_0123.png', '/content/frames/frame_0124.png', '/content/frames/frame_0125.png', '/content/frames/frame_0126.png', '/content/frames/frame_0127.png', '/content/frames/frame_0128.png', '/content/frames/frame_0129.png', '/content/frames/frame_0130.png', '/content/frames/frame_0131.png', '/content/frames/frame_0132.png', '/content/frames/frame_0133.png', '/content/frames/frame_0134.png', '/content/frames/frame_0135.png', '/content/frames/frame_0136.png', '/content/frames/frame_0137.png', '/content/frames/frame_0138.png', '/content/frames/frame_0139.png', '/content/frames/frame_0140.png', '/content/frames/frame_0141.png', '/content/frames/frame_0142.png', '/content/frames/frame_0143.png', '/content/frames/frame_0144.png', '/content/frames/frame_0145.png', '/content/frames/frame_0146.png', '/content/frames/frame_0147.png', '/content/frames/frame_0148.png', '/content/frames/frame_0149.png', '/content/frames/frame_0150.png', '/content/frames/frame_0151.png', '/content/frames/frame_0152.png', '/content/frames/frame_0153.png', '/content/frames/frame_0154.png', '/content/frames/frame_0155.png', '/content/frames/frame_0156.png', '/content/frames/frame_0157.png', '/content/frames/frame_0158.png', '/content/frames/frame_0159.png', '/content/frames/frame_0160.png', '/content/frames/frame_0161.png', '/content/frames/frame_0162.png', '/content/frames/frame_0163.png', '/content/frames/frame_0164.png', '/content/frames/frame_0165.png', '/content/frames/frame_0166.png', '/content/frames/frame_0167.png', '/content/frames/frame_0168.png', '/content/frames/frame_0169.png', '/content/frames/frame_0170.png', '/content/frames/frame_0171.png', '/content/frames/frame_0172.png', '/content/frames/frame_0173.png', '/content/frames/frame_0174.png', '/content/frames/frame_0175.png', '/content/frames/frame_0176.png', '/content/frames/frame_0177.png', '/content/frames/frame_0178.png', '/content/frames/frame_0179.png', '/content/frames/frame_0180.png', '/content/frames/frame_0181.png', '/content/frames/frame_0182.png', '/content/frames/frame_0183.png', '/content/frames/frame_0184.png', '/content/frames/frame_0185.png', '/content/frames/frame_0186.png', '/content/frames/frame_0187.png', '/content/frames/frame_0188.png', '/content/frames/frame_0189.png', '/content/frames/frame_0190.png', '/content/frames/frame_0191.png', '/content/frames/frame_0192.png', '/content/frames/frame_0193.png', '/content/frames/frame_0194.png', '/content/frames/frame_0195.png', '/content/frames/frame_0196.png', '/content/frames/frame_0197.png', '/content/frames/frame_0198.png', '/content/frames/frame_0199.png', '/content/frames/frame_0200.png', '/content/frames/frame_0201.png', '/content/frames/frame_0202.png', '/content/frames/frame_0203.png', '/content/frames/frame_0204.png', '/content/frames/frame_0205.png', '/content/frames/frame_0206.png', '/content/frames/frame_0207.png', '/content/frames/frame_0208.png', '/content/frames/frame_0209.png', '/content/frames/frame_0210.png', '/content/frames/frame_0211.png', '/content/frames/frame_0212.png', '/content/frames/frame_0213.png', '/content/frames/frame_0214.png', '/content/frames/frame_0215.png', '/content/frames/frame_0216.png', '/content/frames/frame_0217.png', '/content/frames/frame_0218.png', '/content/frames/frame_0219.png', '/content/frames/frame_0220.png', '/content/frames/frame_0221.png', '/content/frames/frame_0222.png', '/content/frames/frame_0223.png', '/content/frames/frame_0224.png', '/content/frames/frame_0225.png', '/content/frames/frame_0226.png', '/content/frames/frame_0227.png', '/content/frames/frame_0228.png', '/content/frames/frame_0229.png', '/content/frames/frame_0230.png', '/content/frames/frame_0231.png', '/content/frames/frame_0232.png', '/content/frames/frame_0233.png', '/content/frames/frame_0234.png', '/content/frames/frame_0235.png', '/content/frames/frame_0236.png', '/content/frames/frame_0237.png', '/content/frames/frame_0238.png', '/content/frames/frame_0239.png', '/content/frames/frame_0240.png', '/content/frames/frame_0241.png', '/content/frames/frame_0242.png', '/content/frames/frame_0243.png', '/content/frames/frame_0244.png', '/content/frames/frame_0245.png', '/content/frames/frame_0246.png', '/content/frames/frame_0247.png', '/content/frames/frame_0248.png', '/content/frames/frame_0249.png', '/content/frames/frame_0250.png', '/content/frames/frame_0251.png', '/content/frames/frame_0252.png', '/content/frames/frame_0253.png', '/content/frames/frame_0254.png', '/content/frames/frame_0255.png', '/content/frames/frame_0256.png', '/content/frames/frame_0257.png', '/content/frames/frame_0258.png', '/content/frames/frame_0259.png', '/content/frames/frame_0260.png', '/content/frames/frame_0261.png', '/content/frames/frame_0262.png', '/content/frames/frame_0263.png', '/content/frames/frame_0264.png', '/content/frames/frame_0265.png', '/content/frames/frame_0266.png', '/content/frames/frame_0267.png', '/content/frames/frame_0268.png', '/content/frames/frame_0269.png', '/content/frames/frame_0270.png', '/content/frames/frame_0271.png', '/content/frames/frame_0272.png', '/content/frames/frame_0273.png', '/content/frames/frame_0274.png', '/content/frames/frame_0275.png', '/content/frames/frame_0276.png', '/content/frames/frame_0277.png', '/content/frames/frame_0278.png', '/content/frames/frame_0279.png', '/content/frames/frame_0280.png', '/content/frames/frame_0281.png', '/content/frames/frame_0282.png', '/content/frames/frame_0283.png', '/content/frames/frame_0284.png', '/content/frames/frame_0285.png', '/content/frames/frame_0286.png', '/content/frames/frame_0287.png', '/content/frames/frame_0288.png', '/content/frames/frame_0289.png', '/content/frames/frame_0290.png', '/content/frames/frame_0291.png', '/content/frames/frame_0292.png', '/content/frames/frame_0293.png', '/content/frames/frame_0294.png', '/content/frames/frame_0295.png', '/content/frames/frame_0296.png', '/content/frames/frame_0297.png', '/content/frames/frame_0298.png', '/content/frames/frame_0299.png', '/content/frames/frame_0300.png', '/content/frames/frame_0301.png', '/content/frames/frame_0302.png', '/content/frames/frame_0303.png', '/content/frames/frame_0304.png', '/content/frames/frame_0305.png', '/content/frames/frame_0306.png', '/content/frames/frame_0307.png', '/content/frames/frame_0308.png', '/content/frames/frame_0309.png', '/content/frames/frame_0310.png', '/content/frames/frame_0311.png', '/content/frames/frame_0312.png', '/content/frames/frame_0313.png', '/content/frames/frame_0314.png', '/content/frames/frame_0315.png', '/content/frames/frame_0316.png', '/content/frames/frame_0317.png', '/content/frames/frame_0318.png', '/content/frames/frame_0319.png', '/content/frames/frame_0320.png', '/content/frames/frame_0321.png', '/content/frames/frame_0322.png', '/content/frames/frame_0323.png', '/content/frames/frame_0324.png', '/content/frames/frame_0325.png', '/content/frames/frame_0326.png', '/content/frames/frame_0327.png', '/content/frames/frame_0328.png', '/content/frames/frame_0329.png', '/content/frames/frame_0330.png', '/content/frames/frame_0331.png', '/content/frames/frame_0332.png', '/content/frames/frame_0333.png', '/content/frames/frame_0334.png', '/content/frames/frame_0335.png', '/content/frames/frame_0336.png', '/content/frames/frame_0337.png', '/content/frames/frame_0338.png', '/content/frames/frame_0339.png', '/content/frames/frame_0340.png', '/content/frames/frame_0341.png', '/content/frames/frame_0342.png', '/content/frames/frame_0343.png', '/content/frames/frame_0344.png', '/content/frames/frame_0345.png', '/content/frames/frame_0346.png', '/content/frames/frame_0347.png', '/content/frames/frame_0348.png', '/content/frames/frame_0349.png', '/content/frames/frame_0350.png', '/content/frames/frame_0351.png', '/content/frames/frame_0352.png', '/content/frames/frame_0353.png', '/content/frames/frame_0354.png', '/content/frames/frame_0355.png']\n"
          ]
        }
      ]
    },
    {
      "cell_type": "code",
      "source": [
        "!pip install torch==2.0.0+cu118 torchvision==0.15.1+cu118 torchaudio==2.0.1 --index-url https://download.pytorch.org/whl/cu118"
      ],
      "metadata": {
        "colab": {
          "base_uri": "https://localhost:8080/"
        },
        "id": "KpjvhOCpLRof",
        "outputId": "c82624a4-cde6-4103-e372-46f3b35ec312"
      },
      "execution_count": null,
      "outputs": [
        {
          "output_type": "stream",
          "name": "stdout",
          "text": [
            "Looking in indexes: https://download.pytorch.org/whl/cu118\n",
            "Collecting torch==2.0.0+cu118\n",
            "  Downloading https://download.pytorch.org/whl/cu118/torch-2.0.0%2Bcu118-cp310-cp310-linux_x86_64.whl (2267.3 MB)\n",
            "\u001b[2K     \u001b[90m━━━━━━━━━━━━━━━━━━━━━━━━━━━━━━━━━━━━━━━━\u001b[0m \u001b[32m2.3/2.3 GB\u001b[0m \u001b[31m424.7 kB/s\u001b[0m eta \u001b[36m0:00:00\u001b[0m\n",
            "\u001b[?25hCollecting torchvision==0.15.1+cu118\n",
            "  Downloading https://download.pytorch.org/whl/cu118/torchvision-0.15.1%2Bcu118-cp310-cp310-linux_x86_64.whl (6.1 MB)\n",
            "\u001b[2K     \u001b[90m━━━━━━━━━━━━━━━━━━━━━━━━━━━━━━━━━━━━━━━━\u001b[0m \u001b[32m6.1/6.1 MB\u001b[0m \u001b[31m69.0 MB/s\u001b[0m eta \u001b[36m0:00:00\u001b[0m\n",
            "\u001b[?25hCollecting torchaudio==2.0.1\n",
            "  Downloading https://download.pytorch.org/whl/cu118/torchaudio-2.0.1%2Bcu118-cp310-cp310-linux_x86_64.whl (4.4 MB)\n",
            "\u001b[2K     \u001b[90m━━━━━━━━━━━━━━━━━━━━━━━━━━━━━━━━━━━━━━━━\u001b[0m \u001b[32m4.4/4.4 MB\u001b[0m \u001b[31m66.1 MB/s\u001b[0m eta \u001b[36m0:00:00\u001b[0m\n",
            "\u001b[?25hRequirement already satisfied: filelock in /usr/local/lib/python3.10/dist-packages (from torch==2.0.0+cu118) (3.13.1)\n",
            "Requirement already satisfied: typing-extensions in /usr/local/lib/python3.10/dist-packages (from torch==2.0.0+cu118) (4.5.0)\n",
            "Requirement already satisfied: sympy in /usr/local/lib/python3.10/dist-packages (from torch==2.0.0+cu118) (1.12)\n",
            "Requirement already satisfied: networkx in /usr/local/lib/python3.10/dist-packages (from torch==2.0.0+cu118) (3.2.1)\n",
            "Requirement already satisfied: jinja2 in /usr/local/lib/python3.10/dist-packages (from torch==2.0.0+cu118) (3.1.2)\n",
            "Collecting triton==2.0.0 (from torch==2.0.0+cu118)\n",
            "  Downloading https://download.pytorch.org/whl/triton-2.0.0-1-cp310-cp310-manylinux2014_x86_64.manylinux_2_17_x86_64.whl (63.3 MB)\n",
            "\u001b[2K     \u001b[90m━━━━━━━━━━━━━━━━━━━━━━━━━━━━━━━━━━━━━━━━\u001b[0m \u001b[32m63.3/63.3 MB\u001b[0m \u001b[31m9.7 MB/s\u001b[0m eta \u001b[36m0:00:00\u001b[0m\n",
            "\u001b[?25hRequirement already satisfied: numpy in /usr/local/lib/python3.10/dist-packages (from torchvision==0.15.1+cu118) (1.23.5)\n",
            "Requirement already satisfied: requests in /usr/local/lib/python3.10/dist-packages (from torchvision==0.15.1+cu118) (2.31.0)\n",
            "Requirement already satisfied: pillow!=8.3.*,>=5.3.0 in /usr/local/lib/python3.10/dist-packages (from torchvision==0.15.1+cu118) (9.4.0)\n",
            "Requirement already satisfied: cmake in /usr/local/lib/python3.10/dist-packages (from triton==2.0.0->torch==2.0.0+cu118) (3.27.7)\n",
            "Collecting lit (from triton==2.0.0->torch==2.0.0+cu118)\n",
            "  Downloading https://download.pytorch.org/whl/lit-15.0.7.tar.gz (132 kB)\n",
            "\u001b[2K     \u001b[90m━━━━━━━━━━━━━━━━━━━━━━━━━━━━━━━━━━━━━━━━\u001b[0m \u001b[32m132.3/132.3 kB\u001b[0m \u001b[31m16.0 MB/s\u001b[0m eta \u001b[36m0:00:00\u001b[0m\n",
            "\u001b[?25h  Preparing metadata (setup.py) ... \u001b[?25l\u001b[?25hdone\n",
            "Requirement already satisfied: MarkupSafe>=2.0 in /usr/local/lib/python3.10/dist-packages (from jinja2->torch==2.0.0+cu118) (2.1.3)\n",
            "Requirement already satisfied: charset-normalizer<4,>=2 in /usr/local/lib/python3.10/dist-packages (from requests->torchvision==0.15.1+cu118) (3.3.2)\n",
            "Requirement already satisfied: idna<4,>=2.5 in /usr/local/lib/python3.10/dist-packages (from requests->torchvision==0.15.1+cu118) (3.4)\n",
            "Requirement already satisfied: urllib3<3,>=1.21.1 in /usr/local/lib/python3.10/dist-packages (from requests->torchvision==0.15.1+cu118) (2.0.7)\n",
            "Requirement already satisfied: certifi>=2017.4.17 in /usr/local/lib/python3.10/dist-packages (from requests->torchvision==0.15.1+cu118) (2023.7.22)\n",
            "Requirement already satisfied: mpmath>=0.19 in /usr/local/lib/python3.10/dist-packages (from sympy->torch==2.0.0+cu118) (1.3.0)\n",
            "Building wheels for collected packages: lit\n",
            "  Building wheel for lit (setup.py) ... \u001b[?25l\u001b[?25hdone\n",
            "  Created wheel for lit: filename=lit-15.0.7-py3-none-any.whl size=89989 sha256=b972fce8474a5c9f425c5d2f22f0f4cd228dc07f8d2e42ce8eaf7c5a414933df\n",
            "  Stored in directory: /root/.cache/pip/wheels/27/2c/b6/3ed2983b1b44fe0dea1bb35234b09f2c22fb8ebb308679c922\n",
            "Successfully built lit\n",
            "Installing collected packages: lit, triton, torch, torchvision, torchaudio\n",
            "  Attempting uninstall: triton\n",
            "    Found existing installation: triton 2.1.0\n",
            "    Uninstalling triton-2.1.0:\n",
            "      Successfully uninstalled triton-2.1.0\n",
            "  Attempting uninstall: torch\n",
            "    Found existing installation: torch 2.1.0+cu118\n",
            "    Uninstalling torch-2.1.0+cu118:\n",
            "      Successfully uninstalled torch-2.1.0+cu118\n",
            "  Attempting uninstall: torchvision\n",
            "    Found existing installation: torchvision 0.16.0+cu118\n",
            "    Uninstalling torchvision-0.16.0+cu118:\n",
            "      Successfully uninstalled torchvision-0.16.0+cu118\n",
            "  Attempting uninstall: torchaudio\n",
            "    Found existing installation: torchaudio 2.1.0+cu118\n",
            "    Uninstalling torchaudio-2.1.0+cu118:\n",
            "      Successfully uninstalled torchaudio-2.1.0+cu118\n",
            "\u001b[31mERROR: pip's dependency resolver does not currently take into account all the packages that are installed. This behaviour is the source of the following dependency conflicts.\n",
            "torchdata 0.7.0 requires torch==2.1.0, but you have torch 2.0.0+cu118 which is incompatible.\n",
            "torchtext 0.16.0 requires torch==2.1.0, but you have torch 2.0.0+cu118 which is incompatible.\u001b[0m\u001b[31m\n",
            "\u001b[0mSuccessfully installed lit-15.0.7 torch-2.0.0+cu118 torchaudio-2.0.1+cu118 torchvision-0.15.1+cu118 triton-2.0.0\n"
          ]
        }
      ]
    },
    {
      "cell_type": "code",
      "source": [
        "!git clone https://github.com/facebookresearch/pifuhd"
      ],
      "metadata": {
        "colab": {
          "base_uri": "https://localhost:8080/"
        },
        "id": "MDP9PIbSLVW-",
        "outputId": "3163ed64-e8b9-4616-ef98-5d6b427013cd"
      },
      "execution_count": null,
      "outputs": [
        {
          "output_type": "stream",
          "name": "stdout",
          "text": [
            "Cloning into 'pifuhd'...\n",
            "remote: Enumerating objects: 222, done.\u001b[K\n",
            "remote: Counting objects: 100% (126/126), done.\u001b[K\n",
            "remote: Compressing objects: 100% (44/44), done.\u001b[K\n",
            "remote: Total 222 (delta 92), reused 82 (delta 82), pack-reused 96\u001b[K\n",
            "Receiving objects: 100% (222/222), 399.39 KiB | 3.27 MiB/s, done.\n",
            "Resolving deltas: 100% (114/114), done.\n"
          ]
        }
      ]
    },
    {
      "cell_type": "code",
      "source": [
        "cd /content"
      ],
      "metadata": {
        "colab": {
          "base_uri": "https://localhost:8080/"
        },
        "id": "N9x3kJNjN_wF",
        "outputId": "f50260d6-fed3-46e8-d3f1-31db19eb3107"
      },
      "execution_count": null,
      "outputs": [
        {
          "output_type": "stream",
          "name": "stdout",
          "text": [
            "/content\n"
          ]
        }
      ]
    },
    {
      "cell_type": "code",
      "source": [
        "!git clone https://github.com/Daniil-Osokin/lightweight-human-pose-estimation.pytorch.git"
      ],
      "metadata": {
        "colab": {
          "base_uri": "https://localhost:8080/"
        },
        "id": "lddRFhXMOBtd",
        "outputId": "ad3dcb28-40c6-40f4-cf0f-24bb47034228"
      },
      "execution_count": null,
      "outputs": [
        {
          "output_type": "stream",
          "name": "stdout",
          "text": [
            "Cloning into 'lightweight-human-pose-estimation.pytorch'...\n",
            "remote: Enumerating objects: 120, done.\u001b[K\n",
            "remote: Counting objects: 100% (30/30), done.\u001b[K\n",
            "remote: Compressing objects: 100% (12/12), done.\u001b[K\n",
            "remote: Total 120 (delta 19), reused 18 (delta 18), pack-reused 90\u001b[K\n",
            "Receiving objects: 100% (120/120), 226.70 KiB | 2.22 MiB/s, done.\n",
            "Resolving deltas: 100% (51/51), done.\n"
          ]
        }
      ]
    },
    {
      "cell_type": "code",
      "source": [
        "cd /content/lightweight-human-pose-estimation.pytorch/"
      ],
      "metadata": {
        "colab": {
          "base_uri": "https://localhost:8080/"
        },
        "id": "NxqFpC_kODdl",
        "outputId": "52c6cd06-21a2-4bc3-eded-62d8fc52f827"
      },
      "execution_count": null,
      "outputs": [
        {
          "output_type": "stream",
          "name": "stdout",
          "text": [
            "/content/lightweight-human-pose-estimation.pytorch\n"
          ]
        }
      ]
    },
    {
      "cell_type": "code",
      "source": [
        "!wget https://download.01.org/opencv/openvino_training_extensions/models/human_pose_estimation/checkpoint_iter_370000.pth"
      ],
      "metadata": {
        "colab": {
          "base_uri": "https://localhost:8080/"
        },
        "id": "ie50HoKhOD1l",
        "outputId": "9d3eda94-b783-4108-ee77-767175271b2b"
      },
      "execution_count": null,
      "outputs": [
        {
          "output_type": "stream",
          "name": "stdout",
          "text": [
            "--2023-11-16 04:07:29--  https://download.01.org/opencv/openvino_training_extensions/models/human_pose_estimation/checkpoint_iter_370000.pth\n",
            "Resolving download.01.org (download.01.org)... 23.34.213.97, 2600:1408:9000:69e::efb, 2600:1408:9000:6bd::efb\n",
            "Connecting to download.01.org (download.01.org)|23.34.213.97|:443... connected.\n",
            "HTTP request sent, awaiting response... 200 OK\n",
            "Length: 87959810 (84M) [application/octet-stream]\n",
            "Saving to: ‘checkpoint_iter_370000.pth’\n",
            "\n",
            "checkpoint_iter_370 100%[===================>]  83.88M  65.3MB/s    in 1.3s    \n",
            "\n",
            "2023-11-16 04:07:31 (65.3 MB/s) - ‘checkpoint_iter_370000.pth’ saved [87959810/87959810]\n",
            "\n"
          ]
        }
      ]
    },
    {
      "cell_type": "code",
      "source": [
        "import torch\n",
        "import cv2\n",
        "import numpy as np\n",
        "from models.with_mobilenet import PoseEstimationWithMobileNet\n",
        "from modules.keypoints import extract_keypoints, group_keypoints\n",
        "from modules.load_state import load_state\n",
        "from modules.pose import Pose, track_poses\n",
        "import demo\n",
        "\n",
        "def get_rect(net, images, height_size):\n",
        "    net = net.eval()\n",
        "\n",
        "    stride = 8\n",
        "    upsample_ratio = 4\n",
        "    num_keypoints = Pose.num_kpts\n",
        "    previous_poses = []\n",
        "    delay = 33\n",
        "    for image in images:\n",
        "        rect_path = image.replace('.%s' % (image.split('.')[-1]), '_rect.txt')\n",
        "        img = cv2.imread(image, cv2.IMREAD_COLOR)\n",
        "\n",
        "\n",
        "\n",
        "\n",
        "        # img_rgb = cv2.cvtColor(img, cv2.COLOR_BGR2RGB)\n",
        "        # # Display the image\n",
        "        # plt.imshow(img_rgb)\n",
        "        # plt.title(file_name)\n",
        "        # plt.axis('off')  # Optional: Turn off axis labels\n",
        "        # plt.show()\n",
        "\n",
        "\n",
        "\n",
        "        orig_img = img.copy()\n",
        "        orig_img = img.copy()\n",
        "        heatmaps, pafs, scale, pad = demo.infer_fast(net, img, height_size, stride, upsample_ratio, cpu=False)\n",
        "\n",
        "        total_keypoints_num = 0\n",
        "        all_keypoints_by_type = []\n",
        "        for kpt_idx in range(num_keypoints):  # 19th for bg\n",
        "            total_keypoints_num += extract_keypoints(heatmaps[:, :, kpt_idx], all_keypoints_by_type, total_keypoints_num)\n",
        "\n",
        "        pose_entries, all_keypoints = group_keypoints(all_keypoints_by_type, pafs)\n",
        "        for kpt_id in range(all_keypoints.shape[0]):\n",
        "            all_keypoints[kpt_id, 0] = (all_keypoints[kpt_id, 0] * stride / upsample_ratio - pad[1]) / scale\n",
        "            all_keypoints[kpt_id, 1] = (all_keypoints[kpt_id, 1] * stride / upsample_ratio - pad[0]) / scale\n",
        "        current_poses = []\n",
        "\n",
        "        rects = []\n",
        "        for n in range(len(pose_entries)):\n",
        "            if len(pose_entries[n]) == 0:\n",
        "                continue\n",
        "            pose_keypoints = np.ones((num_keypoints, 2), dtype=np.int32) * -1\n",
        "            valid_keypoints = []\n",
        "            for kpt_id in range(num_keypoints):\n",
        "                if pose_entries[n][kpt_id] != -1.0:  # keypoint was found\n",
        "                    pose_keypoints[kpt_id, 0] = int(all_keypoints[int(pose_entries[n][kpt_id]), 0])\n",
        "                    pose_keypoints[kpt_id, 1] = int(all_keypoints[int(pose_entries[n][kpt_id]), 1])\n",
        "                    valid_keypoints.append([pose_keypoints[kpt_id, 0], pose_keypoints[kpt_id, 1]])\n",
        "            valid_keypoints = np.array(valid_keypoints)\n",
        "\n",
        "            if pose_entries[n][10] != -1.0 or pose_entries[n][13] != -1.0:\n",
        "              pmin = valid_keypoints.min(0)\n",
        "              pmax = valid_keypoints.max(0)\n",
        "\n",
        "              center = (0.5 * (pmax[:2] + pmin[:2])).astype(np.int)\n",
        "              radius = int(0.65 * max(pmax[0]-pmin[0], pmax[1]-pmin[1]))\n",
        "            elif pose_entries[n][10] == -1.0 and pose_entries[n][13] == -1.0 and pose_entries[n][8] != -1.0 and pose_entries[n][11] != -1.0:\n",
        "              # if leg is missing, use pelvis to get cropping\n",
        "              center = (0.5 * (pose_keypoints[8] + pose_keypoints[11])).astype(np.int)\n",
        "              radius = int(1.45*np.sqrt(((center[None,:] - valid_keypoints)**2).sum(1)).max(0))\n",
        "              center[1] += int(0.05*radius)\n",
        "            else:\n",
        "              center = np.array([img.shape[1]//2,img.shape[0]//2])\n",
        "              radius = max(img.shape[1]//2,img.shape[0]//2)\n",
        "\n",
        "            x1 = center[0] - radius\n",
        "            y1 = center[1] - radius\n",
        "\n",
        "            rects.append([x1, y1, 2*radius, 2*radius])\n",
        "\n",
        "        np.savetxt(rect_path, np.array(rects), fmt='%d')"
      ],
      "metadata": {
        "id": "vWET7bwkOFj9"
      },
      "execution_count": null,
      "outputs": []
    },
    {
      "cell_type": "code",
      "source": [
        "import os\n",
        "import matplotlib.pyplot as plt\n",
        "import matplotlib.image as mpimg\n",
        "\n",
        "file_names = os.listdir(\"/content/frames\")\n",
        "\n",
        "for i in range(5):\n",
        "  image_path = f\"/content/frames/frame_000{i}.png\"\n",
        "  img = mpimg.imread(image_path)\n",
        "  plt.imshow(img)\n",
        "  plt.title(file_name)\n",
        "  plt.axis('off')  # Optional: Turn off axis labels\n",
        "  plt.show()\n"
      ],
      "metadata": {
        "id": "PF-FrUFXULff"
      },
      "execution_count": null,
      "outputs": []
    },
    {
      "cell_type": "code",
      "source": [
        "net = PoseEstimationWithMobileNet()\n",
        "checkpoint = torch.load('checkpoint_iter_370000.pth', map_location='cpu')\n",
        "load_state(net, checkpoint)\n",
        "\n",
        "get_rect(net.cuda(), image_path_list, 512)"
      ],
      "metadata": {
        "colab": {
          "base_uri": "https://localhost:8080/"
        },
        "id": "jD8s59X7OHu9",
        "outputId": "280fadcf-ca11-4691-cf11-819202dfcf20"
      },
      "execution_count": null,
      "outputs": [
        {
          "output_type": "stream",
          "name": "stderr",
          "text": [
            "<ipython-input-14-4884b947f585>:53: DeprecationWarning: `np.int` is a deprecated alias for the builtin `int`. To silence this warning, use `int` by itself. Doing this will not modify any behavior and is safe. When replacing `np.int`, you may wish to use e.g. `np.int64` or `np.int32` to specify the precision. If you wish to review your current use, check the release note link for additional information.\n",
            "Deprecated in NumPy 1.20; for more details and guidance: https://numpy.org/devdocs/release/1.20.0-notes.html#deprecations\n",
            "  center = (0.5 * (pmax[:2] + pmin[:2])).astype(np.int)\n",
            "<ipython-input-14-4884b947f585>:57: DeprecationWarning: `np.int` is a deprecated alias for the builtin `int`. To silence this warning, use `int` by itself. Doing this will not modify any behavior and is safe. When replacing `np.int`, you may wish to use e.g. `np.int64` or `np.int32` to specify the precision. If you wish to review your current use, check the release note link for additional information.\n",
            "Deprecated in NumPy 1.20; for more details and guidance: https://numpy.org/devdocs/release/1.20.0-notes.html#deprecations\n",
            "  center = (0.5 * (pose_keypoints[8] + pose_keypoints[11])).astype(np.int)\n"
          ]
        }
      ]
    },
    {
      "cell_type": "code",
      "source": [
        "cd /content/pifuhd/"
      ],
      "metadata": {
        "colab": {
          "base_uri": "https://localhost:8080/"
        },
        "id": "-RMV3KlqONZl",
        "outputId": "a42db5a1-4b11-4ce8-feab-c55507adfb64"
      },
      "execution_count": null,
      "outputs": [
        {
          "output_type": "stream",
          "name": "stdout",
          "text": [
            "/content/pifuhd\n"
          ]
        }
      ]
    },
    {
      "cell_type": "code",
      "source": [
        "!sh ./scripts/download_trained_model.sh"
      ],
      "metadata": {
        "colab": {
          "base_uri": "https://localhost:8080/"
        },
        "id": "-H8dqhPrOQhF",
        "outputId": "42d49704-8cdd-414d-fd80-ee6160d45317"
      },
      "execution_count": null,
      "outputs": [
        {
          "output_type": "stream",
          "name": "stdout",
          "text": [
            "+ mkdir -p checkpoints\n",
            "+ cd checkpoints\n",
            "+ wget https://dl.fbaipublicfiles.com/pifuhd/checkpoints/pifuhd.pt pifuhd.pt\n",
            "--2023-11-16 04:17:11--  https://dl.fbaipublicfiles.com/pifuhd/checkpoints/pifuhd.pt\n",
            "Resolving dl.fbaipublicfiles.com (dl.fbaipublicfiles.com)... 3.162.163.34, 3.162.163.19, 3.162.163.51, ...\n",
            "Connecting to dl.fbaipublicfiles.com (dl.fbaipublicfiles.com)|3.162.163.34|:443... connected.\n",
            "HTTP request sent, awaiting response... 200 OK\n",
            "Length: 1548375177 (1.4G) [application/octet-stream]\n",
            "Saving to: ‘pifuhd.pt’\n",
            "\n",
            "pifuhd.pt           100%[===================>]   1.44G   229MB/s    in 6.2s    \n",
            "\n",
            "2023-11-16 04:17:18 (238 MB/s) - ‘pifuhd.pt’ saved [1548375177/1548375177]\n",
            "\n",
            "--2023-11-16 04:17:18--  http://pifuhd.pt/\n",
            "Resolving pifuhd.pt (pifuhd.pt)... failed: Name or service not known.\n",
            "wget: unable to resolve host address ‘pifuhd.pt’\n",
            "FINISHED --2023-11-16 04:17:18--\n",
            "Total wall clock time: 6.4s\n",
            "Downloaded: 1 files, 1.4G in 6.2s (238 MB/s)\n"
          ]
        }
      ]
    },
    {
      "cell_type": "code",
      "source": [
        "# Warning: all images with the corresponding rectangle files under -i will be processed.\n",
        "!python -m apps.simple_test -r 256 --use_rect -i $image_dir\n",
        "\n",
        "# seems that 256 is the maximum resolution that can fit into Google Colab.\n",
        "# If you want to reconstruct a higher-resolution mesh, please try with your own machine."
      ],
      "metadata": {
        "colab": {
          "base_uri": "https://localhost:8080/"
        },
        "id": "uA_1sfOxOO8-",
        "outputId": "a5c3711e-dcb8-47ae-9725-066fcf093fc6"
      },
      "execution_count": null,
      "outputs": [
        {
          "output_type": "stream",
          "name": "stdout",
          "text": [
            "Resuming from  ./checkpoints/pifuhd.pt\n",
            "Warning: opt is overwritten.\n",
            "test data size:  356\n",
            "initialize network with normal\n",
            "initialize network with normal\n",
            "generate mesh (test) ...\n",
            "  0% 0/356 [00:00<?, ?it/s]./results/pifuhd_final/recon/result_frame_0000_256.obj\n",
            "  0% 1/356 [00:07<42:43,  7.22s/it]./results/pifuhd_final/recon/result_frame_0001_256.obj\n",
            "  1% 2/356 [00:14<42:20,  7.18s/it]./results/pifuhd_final/recon/result_frame_0002_256.obj\n",
            "  1% 3/356 [00:20<38:23,  6.53s/it]./results/pifuhd_final/recon/result_frame_0003_256.obj\n",
            "  1% 4/356 [00:24<34:12,  5.83s/it]./results/pifuhd_final/recon/result_frame_0004_256.obj\n",
            "  1% 5/356 [00:30<33:32,  5.73s/it]./results/pifuhd_final/recon/result_frame_0005_256.obj\n",
            "  2% 6/356 [00:37<35:09,  6.03s/it]./results/pifuhd_final/recon/result_frame_0006_256.obj\n",
            "  2% 7/356 [00:41<32:40,  5.62s/it]./results/pifuhd_final/recon/result_frame_0007_256.obj\n",
            "  2% 8/356 [00:48<34:20,  5.92s/it]./results/pifuhd_final/recon/result_frame_0008_256.obj\n",
            "  3% 9/356 [00:55<36:07,  6.25s/it]./results/pifuhd_final/recon/result_frame_0009_256.obj\n",
            "  3% 10/356 [01:00<33:45,  5.86s/it]./results/pifuhd_final/recon/result_frame_0010_256.obj\n",
            "  3% 11/356 [01:05<33:13,  5.78s/it]./results/pifuhd_final/recon/result_frame_0011_256.obj\n",
            "  3% 12/356 [01:13<35:35,  6.21s/it]./results/pifuhd_final/recon/result_frame_0012_256.obj\n",
            "  4% 13/356 [01:18<33:39,  5.89s/it]./results/pifuhd_final/recon/result_frame_0013_256.obj\n",
            "  4% 14/356 [01:23<32:18,  5.67s/it]./results/pifuhd_final/recon/result_frame_0014_256.obj\n",
            "  4% 15/356 [01:30<34:28,  6.07s/it]./results/pifuhd_final/recon/result_frame_0015_256.obj\n",
            "  4% 16/356 [01:35<32:14,  5.69s/it]./results/pifuhd_final/recon/result_frame_0016_256.obj\n",
            "  5% 17/356 [01:39<30:20,  5.37s/it]./results/pifuhd_final/recon/result_frame_0017_256.obj\n",
            "  5% 18/356 [01:46<32:50,  5.83s/it]./results/pifuhd_final/recon/result_frame_0018_256.obj\n",
            "  5% 19/356 [01:52<32:31,  5.79s/it]./results/pifuhd_final/recon/result_frame_0019_256.obj\n",
            "  6% 20/356 [01:57<31:13,  5.58s/it]./results/pifuhd_final/recon/result_frame_0020_256.obj\n",
            "  6% 21/356 [02:04<33:04,  5.93s/it]./results/pifuhd_final/recon/result_frame_0021_256.obj\n",
            "  6% 22/356 [02:10<33:17,  5.98s/it]./results/pifuhd_final/recon/result_frame_0022_256.obj\n",
            "  6% 23/356 [02:14<30:50,  5.56s/it]./results/pifuhd_final/recon/result_frame_0023_256.obj\n",
            "  7% 24/356 [02:20<30:33,  5.52s/it]./results/pifuhd_final/recon/result_frame_0024_256.obj\n",
            "  7% 25/356 [02:27<32:43,  5.93s/it]./results/pifuhd_final/recon/result_frame_0025_256.obj\n",
            "  7% 26/356 [02:31<30:33,  5.56s/it]./results/pifuhd_final/recon/result_frame_0026_256.obj\n",
            "  8% 27/356 [02:37<29:40,  5.41s/it]./results/pifuhd_final/recon/result_frame_0027_256.obj\n",
            "  8% 28/356 [02:44<32:57,  6.03s/it]./results/pifuhd_final/recon/result_frame_0028_256.obj\n",
            "  8% 29/356 [02:49<31:32,  5.79s/it]./results/pifuhd_final/recon/result_frame_0029_256.obj\n",
            "  8% 30/356 [02:54<29:52,  5.50s/it]./results/pifuhd_final/recon/result_frame_0030_256.obj\n",
            "  9% 31/356 [03:01<32:09,  5.94s/it]./results/pifuhd_final/recon/result_frame_0031_256.obj\n",
            "  9% 32/356 [03:07<31:54,  5.91s/it]./results/pifuhd_final/recon/result_frame_0032_256.obj\n",
            "  9% 33/356 [03:12<29:59,  5.57s/it]./results/pifuhd_final/recon/result_frame_0033_256.obj\n",
            " 10% 34/356 [03:17<30:05,  5.61s/it]./results/pifuhd_final/recon/result_frame_0034_256.obj\n",
            " 10% 35/356 [03:24<31:37,  5.91s/it]./results/pifuhd_final/recon/result_frame_0035_256.obj\n",
            " 10% 36/356 [03:29<29:40,  5.56s/it]./results/pifuhd_final/recon/result_frame_0036_256.obj\n",
            " 10% 37/356 [03:34<29:07,  5.48s/it]./results/pifuhd_final/recon/result_frame_0037_256.obj\n",
            " 11% 38/356 [03:41<31:11,  5.89s/it]./results/pifuhd_final/recon/result_frame_0038_256.obj\n",
            " 11% 39/356 [03:46<29:21,  5.56s/it]./results/pifuhd_final/recon/result_frame_0039_256.obj\n",
            " 11% 40/356 [03:50<28:07,  5.34s/it]./results/pifuhd_final/recon/result_frame_0040_256.obj\n",
            " 12% 41/356 [03:58<30:51,  5.88s/it]./results/pifuhd_final/recon/result_frame_0041_256.obj\n",
            " 12% 42/356 [04:04<32:16,  6.17s/it]./results/pifuhd_final/recon/result_frame_0042_256.obj\n",
            " 12% 43/356 [04:11<32:04,  6.15s/it]./results/pifuhd_final/recon/result_frame_0043_256.obj\n",
            " 12% 44/356 [04:18<33:46,  6.50s/it]./results/pifuhd_final/recon/result_frame_0044_256.obj\n",
            " 13% 45/356 [04:23<31:20,  6.05s/it]./results/pifuhd_final/recon/result_frame_0045_256.obj\n",
            " 13% 46/356 [04:28<29:42,  5.75s/it]./results/pifuhd_final/recon/result_frame_0046_256.obj\n",
            " 13% 47/356 [04:35<32:10,  6.25s/it]./results/pifuhd_final/recon/result_frame_0047_256.obj\n",
            " 13% 48/356 [04:40<30:18,  5.90s/it]./results/pifuhd_final/recon/result_frame_0048_256.obj\n",
            " 14% 49/356 [04:45<28:21,  5.54s/it]./results/pifuhd_final/recon/result_frame_0049_256.obj\n",
            " 14% 50/356 [04:52<30:18,  5.94s/it]./results/pifuhd_final/recon/result_frame_0050_256.obj\n",
            " 14% 51/356 [04:58<29:54,  5.88s/it]./results/pifuhd_final/recon/result_frame_0051_256.obj\n",
            " 15% 52/356 [05:03<28:25,  5.61s/it]./results/pifuhd_final/recon/result_frame_0052_256.obj\n",
            " 15% 53/356 [05:09<29:13,  5.79s/it]./results/pifuhd_final/recon/result_frame_0053_256.obj\n",
            " 15% 54/356 [05:15<30:06,  5.98s/it]./results/pifuhd_final/recon/result_frame_0054_256.obj\n",
            " 15% 55/356 [05:20<28:19,  5.65s/it]./results/pifuhd_final/recon/result_frame_0055_256.obj\n",
            " 16% 56/356 [05:26<28:28,  5.69s/it]./results/pifuhd_final/recon/result_frame_0056_256.obj\n",
            " 16% 57/356 [05:33<29:51,  5.99s/it]./results/pifuhd_final/recon/result_frame_0057_256.obj\n",
            " 16% 58/356 [05:39<30:31,  6.15s/it]./results/pifuhd_final/recon/result_frame_0058_256.obj\n",
            " 17% 59/356 [05:45<30:29,  6.16s/it]./results/pifuhd_final/recon/result_frame_0059_256.obj\n",
            " 17% 60/356 [05:53<33:00,  6.69s/it]./results/pifuhd_final/recon/result_frame_0060_256.obj\n",
            " 17% 61/356 [05:59<31:47,  6.46s/it]./results/pifuhd_final/recon/result_frame_0061_256.obj\n",
            " 17% 62/356 [06:06<31:35,  6.45s/it]./results/pifuhd_final/recon/result_frame_0062_256.obj\n",
            " 18% 63/356 [06:12<31:11,  6.39s/it]./results/pifuhd_final/recon/result_frame_0063_256.obj\n",
            " 18% 64/356 [06:17<28:51,  5.93s/it]./results/pifuhd_final/recon/result_frame_0064_256.obj\n",
            " 18% 65/356 [06:22<28:24,  5.86s/it]./results/pifuhd_final/recon/result_frame_0065_256.obj\n",
            " 19% 66/356 [06:29<29:15,  6.05s/it]./results/pifuhd_final/recon/result_frame_0066_256.obj\n",
            " 19% 67/356 [06:34<27:21,  5.68s/it]./results/pifuhd_final/recon/result_frame_0067_256.obj\n",
            " 19% 68/356 [06:39<26:23,  5.50s/it]./results/pifuhd_final/recon/result_frame_0068_256.obj\n",
            " 19% 69/356 [06:46<28:33,  5.97s/it]./results/pifuhd_final/recon/result_frame_0069_256.obj\n",
            " 20% 70/356 [06:51<26:49,  5.63s/it]./results/pifuhd_final/recon/result_frame_0070_256.obj\n",
            " 20% 71/356 [06:56<25:42,  5.41s/it]./results/pifuhd_final/recon/result_frame_0071_256.obj\n",
            " 20% 72/356 [07:03<27:54,  5.90s/it]./results/pifuhd_final/recon/result_frame_0072_256.obj\n",
            " 21% 73/356 [07:08<27:30,  5.83s/it]./results/pifuhd_final/recon/result_frame_0073_256.obj\n",
            " 21% 74/356 [07:13<26:02,  5.54s/it]./results/pifuhd_final/recon/result_frame_0074_256.obj\n",
            " 21% 75/356 [07:20<27:45,  5.93s/it]./results/pifuhd_final/recon/result_frame_0075_256.obj\n",
            " 21% 76/356 [07:26<28:06,  6.02s/it]./results/pifuhd_final/recon/result_frame_0076_256.obj\n",
            " 22% 77/356 [07:31<26:34,  5.72s/it]./results/pifuhd_final/recon/result_frame_0077_256.obj\n",
            " 22% 78/356 [07:38<27:22,  5.91s/it]./results/pifuhd_final/recon/result_frame_0078_256.obj\n",
            " 22% 79/356 [07:44<28:20,  6.14s/it]./results/pifuhd_final/recon/result_frame_0079_256.obj\n",
            " 22% 80/356 [07:49<26:37,  5.79s/it]./results/pifuhd_final/recon/result_frame_0080_256.obj\n",
            " 23% 81/356 [07:55<26:29,  5.78s/it]./results/pifuhd_final/recon/result_frame_0081_256.obj\n",
            " 23% 82/356 [08:02<27:29,  6.02s/it]./results/pifuhd_final/recon/result_frame_0082_256.obj\n",
            " 23% 83/356 [08:07<26:00,  5.72s/it]./results/pifuhd_final/recon/result_frame_0083_256.obj\n",
            " 24% 84/356 [08:12<25:47,  5.69s/it]./results/pifuhd_final/recon/result_frame_0084_256.obj\n",
            " 24% 85/356 [08:19<27:29,  6.09s/it]./results/pifuhd_final/recon/result_frame_0085_256.obj\n",
            " 24% 86/356 [08:24<25:57,  5.77s/it]./results/pifuhd_final/recon/result_frame_0086_256.obj\n",
            " 24% 87/356 [08:29<24:37,  5.49s/it]./results/pifuhd_final/recon/result_frame_0087_256.obj\n",
            " 25% 88/356 [08:36<26:59,  6.04s/it]./results/pifuhd_final/recon/result_frame_0088_256.obj\n",
            " 25% 89/356 [08:42<25:37,  5.76s/it]./results/pifuhd_final/recon/result_frame_0089_256.obj\n",
            " 25% 90/356 [08:47<24:29,  5.52s/it]./results/pifuhd_final/recon/result_frame_0090_256.obj\n",
            " 26% 91/356 [08:54<26:34,  6.02s/it]./results/pifuhd_final/recon/result_frame_0091_256.obj\n",
            " 26% 92/356 [09:00<26:26,  6.01s/it]./results/pifuhd_final/recon/result_frame_0092_256.obj\n",
            " 26% 93/356 [09:05<25:05,  5.72s/it]./results/pifuhd_final/recon/result_frame_0093_256.obj\n",
            " 26% 94/356 [09:11<26:16,  6.02s/it]./results/pifuhd_final/recon/result_frame_0094_256.obj\n",
            " 27% 95/356 [09:18<26:51,  6.17s/it]./results/pifuhd_final/recon/result_frame_0095_256.obj\n",
            " 27% 96/356 [09:23<25:21,  5.85s/it]./results/pifuhd_final/recon/result_frame_0096_256.obj\n",
            " 27% 97/356 [09:30<26:22,  6.11s/it]./results/pifuhd_final/recon/result_frame_0097_256.obj\n",
            " 28% 98/356 [09:36<26:11,  6.09s/it]./results/pifuhd_final/recon/result_frame_0098_256.obj\n",
            " 28% 99/356 [09:41<24:24,  5.70s/it]./results/pifuhd_final/recon/result_frame_0099_256.obj\n",
            " 28% 100/356 [09:46<24:17,  5.69s/it]./results/pifuhd_final/recon/result_frame_0100_256.obj\n",
            " 28% 101/356 [09:53<25:21,  5.97s/it]./results/pifuhd_final/recon/result_frame_0101_256.obj\n",
            " 29% 102/356 [09:58<23:56,  5.66s/it]./results/pifuhd_final/recon/result_frame_0102_256.obj\n",
            " 29% 103/356 [10:03<23:16,  5.52s/it]./results/pifuhd_final/recon/result_frame_0103_256.obj\n",
            " 29% 104/356 [10:11<25:48,  6.15s/it]./results/pifuhd_final/recon/result_frame_0104_256.obj\n",
            " 29% 105/356 [10:16<24:16,  5.80s/it]./results/pifuhd_final/recon/result_frame_0105_256.obj\n",
            " 30% 106/356 [10:21<23:06,  5.55s/it]./results/pifuhd_final/recon/result_frame_0106_256.obj\n",
            " 30% 107/356 [10:29<26:20,  6.35s/it]./results/pifuhd_final/recon/result_frame_0107_256.obj\n",
            " 30% 108/356 [10:34<24:39,  5.97s/it]./results/pifuhd_final/recon/result_frame_0108_256.obj\n",
            " 31% 109/356 [10:39<23:54,  5.81s/it]./results/pifuhd_final/recon/result_frame_0109_256.obj\n",
            " 31% 110/356 [10:47<26:17,  6.41s/it]./results/pifuhd_final/recon/result_frame_0110_256.obj\n",
            " 31% 111/356 [10:52<24:32,  6.01s/it]./results/pifuhd_final/recon/result_frame_0111_256.obj\n",
            " 31% 112/356 [10:58<23:35,  5.80s/it]./results/pifuhd_final/recon/result_frame_0112_256.obj\n",
            " 32% 113/356 [11:05<25:23,  6.27s/it]./results/pifuhd_final/recon/result_frame_0113_256.obj\n",
            " 32% 114/356 [11:10<23:48,  5.90s/it]./results/pifuhd_final/recon/result_frame_0114_256.obj\n",
            " 32% 115/356 [11:15<22:27,  5.59s/it]./results/pifuhd_final/recon/result_frame_0115_256.obj\n",
            " 33% 116/356 [11:22<24:28,  6.12s/it]./results/pifuhd_final/recon/result_frame_0116_256.obj\n",
            " 33% 117/356 [11:28<23:37,  5.93s/it]./results/pifuhd_final/recon/result_frame_0117_256.obj\n",
            " 33% 118/356 [11:33<22:15,  5.61s/it]./results/pifuhd_final/recon/result_frame_0118_256.obj\n",
            " 33% 119/356 [11:39<23:38,  5.98s/it]./results/pifuhd_final/recon/result_frame_0119_256.obj\n",
            " 34% 120/356 [11:45<23:26,  5.96s/it]./results/pifuhd_final/recon/result_frame_0120_256.obj\n",
            " 34% 121/356 [11:50<22:07,  5.65s/it]./results/pifuhd_final/recon/result_frame_0121_256.obj\n",
            " 34% 122/356 [11:57<23:37,  6.06s/it]./results/pifuhd_final/recon/result_frame_0122_256.obj\n",
            " 35% 123/356 [12:04<24:19,  6.26s/it]./results/pifuhd_final/recon/result_frame_0123_256.obj\n",
            " 35% 124/356 [12:09<22:51,  5.91s/it]./results/pifuhd_final/recon/result_frame_0124_256.obj\n",
            " 35% 125/356 [12:15<22:58,  5.97s/it]./results/pifuhd_final/recon/result_frame_0125_256.obj\n",
            " 35% 126/356 [12:22<23:56,  6.25s/it]./results/pifuhd_final/recon/result_frame_0126_256.obj\n",
            " 36% 127/356 [12:28<22:55,  6.00s/it]./results/pifuhd_final/recon/result_frame_0127_256.obj\n",
            " 36% 128/356 [12:34<22:48,  6.00s/it]./results/pifuhd_final/recon/result_frame_0128_256.obj\n",
            " 36% 129/356 [12:40<23:28,  6.20s/it]./results/pifuhd_final/recon/result_frame_0129_256.obj\n",
            " 37% 130/356 [12:45<21:56,  5.82s/it]./results/pifuhd_final/recon/result_frame_0130_256.obj\n",
            " 37% 131/356 [12:50<21:12,  5.65s/it]./results/pifuhd_final/recon/result_frame_0131_256.obj\n",
            " 37% 132/356 [12:58<22:54,  6.13s/it]./results/pifuhd_final/recon/result_frame_0132_256.obj\n",
            " 37% 133/356 [13:02<21:21,  5.75s/it]./results/pifuhd_final/recon/result_frame_0133_256.obj\n",
            " 38% 134/356 [13:07<20:22,  5.51s/it]./results/pifuhd_final/recon/result_frame_0134_256.obj\n",
            " 38% 135/356 [13:14<22:00,  5.98s/it]./results/pifuhd_final/recon/result_frame_0135_256.obj\n",
            " 38% 136/356 [13:20<21:08,  5.77s/it]./results/pifuhd_final/recon/result_frame_0136_256.obj\n",
            " 38% 137/356 [13:25<20:04,  5.50s/it]./results/pifuhd_final/recon/result_frame_0137_256.obj\n",
            " 39% 138/356 [13:32<21:43,  5.98s/it]./results/pifuhd_final/recon/result_frame_0138_256.obj\n",
            " 39% 139/356 [13:38<21:36,  5.97s/it]./results/pifuhd_final/recon/result_frame_0139_256.obj\n",
            " 39% 140/356 [13:43<20:24,  5.67s/it]./results/pifuhd_final/recon/result_frame_0140_256.obj\n",
            " 40% 141/356 [13:49<21:15,  5.93s/it]./results/pifuhd_final/recon/result_frame_0141_256.obj\n",
            " 40% 142/356 [13:56<21:51,  6.13s/it]./results/pifuhd_final/recon/result_frame_0142_256.obj\n",
            " 40% 143/356 [14:01<20:28,  5.77s/it]./results/pifuhd_final/recon/result_frame_0143_256.obj\n",
            " 40% 144/356 [14:07<20:24,  5.77s/it]./results/pifuhd_final/recon/result_frame_0144_256.obj\n",
            " 41% 145/356 [14:13<21:14,  6.04s/it]./results/pifuhd_final/recon/result_frame_0145_256.obj\n",
            " 41% 146/356 [14:18<19:46,  5.65s/it]./results/pifuhd_final/recon/result_frame_0146_256.obj\n",
            " 41% 147/356 [14:25<21:19,  6.12s/it]./results/pifuhd_final/recon/result_frame_0147_256.obj\n",
            " 42% 148/356 [14:32<22:18,  6.43s/it]./results/pifuhd_final/recon/result_frame_0148_256.obj\n",
            " 42% 149/356 [14:38<21:06,  6.12s/it]./results/pifuhd_final/recon/result_frame_0149_256.obj\n",
            " 42% 150/356 [14:44<21:32,  6.27s/it]./results/pifuhd_final/recon/result_frame_0150_256.obj\n",
            " 42% 151/356 [14:51<21:36,  6.32s/it]./results/pifuhd_final/recon/result_frame_0151_256.obj\n",
            " 43% 152/356 [14:56<20:23,  6.00s/it]./results/pifuhd_final/recon/result_frame_0152_256.obj\n",
            " 43% 153/356 [15:03<20:52,  6.17s/it]./results/pifuhd_final/recon/result_frame_0153_256.obj\n",
            " 43% 154/356 [15:09<21:31,  6.39s/it]./results/pifuhd_final/recon/result_frame_0154_256.obj\n",
            " 44% 155/356 [15:14<20:00,  5.97s/it]./results/pifuhd_final/recon/result_frame_0155_256.obj\n",
            " 44% 156/356 [15:20<19:35,  5.88s/it]./results/pifuhd_final/recon/result_frame_0156_256.obj\n",
            " 44% 157/356 [15:27<20:43,  6.25s/it]./results/pifuhd_final/recon/result_frame_0157_256.obj\n",
            " 44% 158/356 [15:32<19:32,  5.92s/it]./results/pifuhd_final/recon/result_frame_0158_256.obj\n",
            " 45% 159/356 [15:38<19:13,  5.86s/it]./results/pifuhd_final/recon/result_frame_0159_256.obj\n",
            " 45% 160/356 [15:45<20:17,  6.21s/it]./results/pifuhd_final/recon/result_frame_0160_256.obj\n",
            " 45% 161/356 [15:50<19:15,  5.92s/it]./results/pifuhd_final/recon/result_frame_0161_256.obj\n",
            " 46% 162/356 [15:55<18:18,  5.66s/it]./results/pifuhd_final/recon/result_frame_0162_256.obj\n",
            " 46% 163/356 [16:03<19:35,  6.09s/it]./results/pifuhd_final/recon/result_frame_0163_256.obj\n",
            " 46% 164/356 [16:08<18:25,  5.76s/it]./results/pifuhd_final/recon/result_frame_0164_256.obj\n",
            " 46% 165/356 [16:12<17:22,  5.46s/it]./results/pifuhd_final/recon/result_frame_0165_256.obj\n",
            " 47% 166/356 [16:19<18:54,  5.97s/it]./results/pifuhd_final/recon/result_frame_0166_256.obj\n",
            " 47% 167/356 [16:25<18:28,  5.87s/it]./results/pifuhd_final/recon/result_frame_0167_256.obj\n",
            " 47% 168/356 [16:30<17:23,  5.55s/it]./results/pifuhd_final/recon/result_frame_0168_256.obj\n",
            " 47% 169/356 [16:36<18:04,  5.80s/it]./results/pifuhd_final/recon/result_frame_0169_256.obj\n",
            " 48% 170/356 [16:43<18:35,  6.00s/it]./results/pifuhd_final/recon/result_frame_0170_256.obj\n",
            " 48% 171/356 [16:48<17:41,  5.74s/it]./results/pifuhd_final/recon/result_frame_0171_256.obj\n",
            " 48% 172/356 [16:54<17:49,  5.81s/it]./results/pifuhd_final/recon/result_frame_0172_256.obj\n",
            " 49% 173/356 [17:01<18:39,  6.12s/it]./results/pifuhd_final/recon/result_frame_0173_256.obj\n",
            " 49% 174/356 [17:06<17:48,  5.87s/it]./results/pifuhd_final/recon/result_frame_0174_256.obj\n",
            " 49% 175/356 [17:12<17:53,  5.93s/it]./results/pifuhd_final/recon/result_frame_0175_256.obj\n",
            " 49% 176/356 [17:19<18:18,  6.10s/it]./results/pifuhd_final/recon/result_frame_0176_256.obj\n",
            " 50% 177/356 [17:23<17:05,  5.73s/it]./results/pifuhd_final/recon/result_frame_0177_256.obj\n",
            " 50% 178/356 [17:29<16:32,  5.58s/it]./results/pifuhd_final/recon/result_frame_0178_256.obj\n",
            " 50% 179/356 [17:36<17:52,  6.06s/it]./results/pifuhd_final/recon/result_frame_0179_256.obj\n",
            " 51% 180/356 [17:41<16:54,  5.77s/it]./results/pifuhd_final/recon/result_frame_0180_256.obj\n",
            " 51% 181/356 [17:46<16:00,  5.49s/it]./results/pifuhd_final/recon/result_frame_0181_256.obj\n",
            " 51% 182/356 [17:53<17:27,  6.02s/it]./results/pifuhd_final/recon/result_frame_0182_256.obj\n",
            " 51% 183/356 [17:58<16:22,  5.68s/it]./results/pifuhd_final/recon/result_frame_0183_256.obj\n",
            " 52% 184/356 [18:03<15:51,  5.53s/it]./results/pifuhd_final/recon/result_frame_0184_256.obj\n",
            " 52% 185/356 [18:10<17:16,  6.06s/it]./results/pifuhd_final/recon/result_frame_0185_256.obj\n",
            " 52% 186/356 [18:16<16:53,  5.96s/it]./results/pifuhd_final/recon/result_frame_0186_256.obj\n",
            " 53% 187/356 [18:21<15:59,  5.68s/it]./results/pifuhd_final/recon/result_frame_0187_256.obj\n",
            " 53% 188/356 [18:28<16:58,  6.06s/it]./results/pifuhd_final/recon/result_frame_0188_256.obj\n",
            " 53% 189/356 [18:34<16:47,  6.03s/it]./results/pifuhd_final/recon/result_frame_0189_256.obj\n",
            " 53% 190/356 [18:39<16:05,  5.82s/it]./results/pifuhd_final/recon/result_frame_0190_256.obj\n",
            " 54% 191/356 [18:46<16:32,  6.01s/it]./results/pifuhd_final/recon/result_frame_0191_256.obj\n",
            " 54% 192/356 [18:52<16:35,  6.07s/it]./results/pifuhd_final/recon/result_frame_0192_256.obj\n",
            " 54% 193/356 [18:57<15:33,  5.73s/it]./results/pifuhd_final/recon/result_frame_0193_256.obj\n",
            " 54% 194/356 [19:03<15:41,  5.81s/it]./results/pifuhd_final/recon/result_frame_0194_256.obj\n",
            " 55% 195/356 [19:09<16:09,  6.02s/it]./results/pifuhd_final/recon/result_frame_0195_256.obj\n",
            " 55% 196/356 [19:15<15:17,  5.73s/it]./results/pifuhd_final/recon/result_frame_0196_256.obj\n",
            " 55% 197/356 [19:20<14:47,  5.58s/it]./results/pifuhd_final/recon/result_frame_0197_256.obj\n",
            " 56% 198/356 [19:27<15:49,  6.01s/it]./results/pifuhd_final/recon/result_frame_0198_256.obj\n",
            " 56% 199/356 [19:32<14:50,  5.67s/it]./results/pifuhd_final/recon/result_frame_0199_256.obj\n",
            " 56% 200/356 [19:36<13:59,  5.38s/it]./results/pifuhd_final/recon/result_frame_0200_256.obj\n",
            " 56% 201/356 [19:44<15:19,  5.93s/it]./results/pifuhd_final/recon/result_frame_0201_256.obj\n",
            " 57% 202/356 [19:49<14:32,  5.66s/it]./results/pifuhd_final/recon/result_frame_0202_256.obj\n",
            " 57% 203/356 [19:54<13:55,  5.46s/it]./results/pifuhd_final/recon/result_frame_0203_256.obj\n",
            " 57% 204/356 [20:01<14:58,  5.91s/it]./results/pifuhd_final/recon/result_frame_0204_256.obj\n",
            " 58% 205/356 [20:06<14:44,  5.86s/it]./results/pifuhd_final/recon/result_frame_0205_256.obj\n",
            " 58% 206/356 [20:11<14:02,  5.62s/it]./results/pifuhd_final/recon/result_frame_0206_256.obj\n",
            " 58% 207/356 [20:18<14:39,  5.90s/it]./results/pifuhd_final/recon/result_frame_0207_256.obj\n",
            " 58% 208/356 [20:24<15:00,  6.09s/it]./results/pifuhd_final/recon/result_frame_0208_256.obj\n",
            " 59% 209/356 [20:31<15:00,  6.12s/it]./results/pifuhd_final/recon/result_frame_0209_256.obj\n",
            " 59% 210/356 [20:40<17:27,  7.17s/it]./results/pifuhd_final/recon/result_frame_0210_256.obj\n",
            " 59% 211/356 [20:47<16:52,  6.98s/it]./results/pifuhd_final/recon/result_frame_0211_256.obj\n",
            " 60% 212/356 [20:53<15:50,  6.60s/it]./results/pifuhd_final/recon/result_frame_0212_256.obj\n",
            " 60% 213/356 [21:00<16:16,  6.83s/it]./results/pifuhd_final/recon/result_frame_0213_256.obj\n",
            " 60% 214/356 [21:05<14:56,  6.31s/it]./results/pifuhd_final/recon/result_frame_0214_256.obj\n",
            " 60% 215/356 [21:12<15:03,  6.41s/it]./results/pifuhd_final/recon/result_frame_0215_256.obj\n",
            " 61% 216/356 [21:20<16:21,  7.01s/it]./results/pifuhd_final/recon/result_frame_0216_256.obj\n",
            " 61% 217/356 [21:25<15:01,  6.49s/it]./results/pifuhd_final/recon/result_frame_0217_256.obj\n",
            " 61% 218/356 [21:32<14:55,  6.49s/it]./results/pifuhd_final/recon/result_frame_0218_256.obj\n",
            " 62% 219/356 [21:39<15:02,  6.59s/it]./results/pifuhd_final/recon/result_frame_0219_256.obj\n",
            " 62% 220/356 [21:45<14:30,  6.40s/it]./results/pifuhd_final/recon/result_frame_0220_256.obj\n",
            " 62% 221/356 [21:54<16:07,  7.16s/it]./results/pifuhd_final/recon/result_frame_0221_256.obj\n",
            " 62% 222/356 [22:00<15:19,  6.86s/it]./results/pifuhd_final/recon/result_frame_0222_256.obj\n",
            " 63% 223/356 [22:05<13:57,  6.30s/it]./results/pifuhd_final/recon/result_frame_0223_256.obj\n",
            " 63% 224/356 [22:12<14:29,  6.59s/it]./results/pifuhd_final/recon/result_frame_0224_256.obj\n",
            " 63% 225/356 [22:18<13:46,  6.31s/it]./results/pifuhd_final/recon/result_frame_0225_256.obj\n",
            " 63% 226/356 [22:22<12:38,  5.84s/it]./results/pifuhd_final/recon/result_frame_0226_256.obj\n",
            " 64% 227/356 [22:29<12:49,  5.97s/it]./results/pifuhd_final/recon/result_frame_0227_256.obj\n",
            " 64% 228/356 [22:35<13:00,  6.10s/it]./results/pifuhd_final/recon/result_frame_0228_256.obj\n",
            " 64% 229/356 [22:40<12:10,  5.75s/it]./results/pifuhd_final/recon/result_frame_0229_256.obj\n",
            " 65% 230/356 [22:46<12:00,  5.72s/it]./results/pifuhd_final/recon/result_frame_0230_256.obj\n",
            " 65% 231/356 [22:52<12:26,  5.98s/it]./results/pifuhd_final/recon/result_frame_0231_256.obj\n",
            " 65% 232/356 [22:57<11:46,  5.70s/it]./results/pifuhd_final/recon/result_frame_0232_256.obj\n",
            " 65% 233/356 [23:03<11:32,  5.63s/it]./results/pifuhd_final/recon/result_frame_0233_256.obj\n",
            " 66% 234/356 [23:10<12:20,  6.07s/it]./results/pifuhd_final/recon/result_frame_0234_256.obj\n",
            " 66% 235/356 [23:15<11:29,  5.70s/it]./results/pifuhd_final/recon/result_frame_0235_256.obj\n",
            " 66% 236/356 [23:20<10:57,  5.48s/it]./results/pifuhd_final/recon/result_frame_0236_256.obj\n",
            " 67% 237/356 [23:27<11:53,  6.00s/it]./results/pifuhd_final/recon/result_frame_0237_256.obj\n",
            " 67% 238/356 [23:32<11:18,  5.75s/it]./results/pifuhd_final/recon/result_frame_0238_256.obj\n",
            " 67% 239/356 [23:37<10:41,  5.48s/it]./results/pifuhd_final/recon/result_frame_0239_256.obj\n",
            " 67% 240/356 [23:44<11:25,  5.91s/it]./results/pifuhd_final/recon/result_frame_0240_256.obj\n",
            " 68% 241/356 [23:50<11:16,  5.88s/it]./results/pifuhd_final/recon/result_frame_0241_256.obj\n",
            " 68% 242/356 [23:54<10:29,  5.52s/it]./results/pifuhd_final/recon/result_frame_0242_256.obj\n",
            " 68% 243/356 [24:00<10:35,  5.63s/it]./results/pifuhd_final/recon/result_frame_0243_256.obj\n",
            " 69% 244/356 [24:07<11:26,  6.13s/it]./results/pifuhd_final/recon/result_frame_0244_256.obj\n",
            " 69% 245/356 [24:12<10:44,  5.80s/it]./results/pifuhd_final/recon/result_frame_0245_256.obj\n",
            " 69% 246/356 [24:18<10:22,  5.66s/it]./results/pifuhd_final/recon/result_frame_0246_256.obj\n",
            " 69% 247/356 [24:25<11:03,  6.09s/it]./results/pifuhd_final/recon/result_frame_0247_256.obj\n",
            " 70% 248/356 [24:30<10:22,  5.77s/it]./results/pifuhd_final/recon/result_frame_0248_256.obj\n",
            " 70% 249/356 [24:35<09:54,  5.55s/it]./results/pifuhd_final/recon/result_frame_0249_256.obj\n",
            " 70% 250/356 [24:42<10:52,  6.15s/it]./results/pifuhd_final/recon/result_frame_0250_256.obj\n",
            " 71% 251/356 [24:48<10:15,  5.86s/it]./results/pifuhd_final/recon/result_frame_0251_256.obj\n",
            " 71% 252/356 [24:53<09:45,  5.63s/it]./results/pifuhd_final/recon/result_frame_0252_256.obj\n",
            " 71% 253/356 [25:00<10:37,  6.19s/it]./results/pifuhd_final/recon/result_frame_0253_256.obj\n",
            " 71% 254/356 [25:06<10:11,  5.99s/it]./results/pifuhd_final/recon/result_frame_0254_256.obj\n",
            " 72% 255/356 [25:11<09:29,  5.64s/it]./results/pifuhd_final/recon/result_frame_0255_256.obj\n",
            " 72% 256/356 [25:17<09:56,  5.96s/it]./results/pifuhd_final/recon/result_frame_0256_256.obj\n",
            " 72% 257/356 [25:23<09:49,  5.95s/it]./results/pifuhd_final/recon/result_frame_0257_256.obj\n",
            " 72% 258/356 [25:28<09:10,  5.62s/it]./results/pifuhd_final/recon/result_frame_0258_256.obj\n",
            " 73% 259/356 [25:34<09:08,  5.65s/it]./results/pifuhd_final/recon/result_frame_0259_256.obj\n",
            " 73% 260/356 [25:40<09:32,  5.97s/it]./results/pifuhd_final/recon/result_frame_0260_256.obj\n",
            " 73% 261/356 [25:45<08:53,  5.62s/it]./results/pifuhd_final/recon/result_frame_0261_256.obj\n",
            " 74% 262/356 [25:50<08:36,  5.50s/it]./results/pifuhd_final/recon/result_frame_0262_256.obj\n",
            " 74% 263/356 [25:58<09:19,  6.02s/it]./results/pifuhd_final/recon/result_frame_0263_256.obj\n",
            " 74% 264/356 [26:03<08:46,  5.72s/it]./results/pifuhd_final/recon/result_frame_0264_256.obj\n",
            " 74% 265/356 [26:08<08:20,  5.50s/it]./results/pifuhd_final/recon/result_frame_0265_256.obj\n",
            " 75% 266/356 [26:16<09:42,  6.47s/it]./results/pifuhd_final/recon/result_frame_0266_256.obj\n",
            " 75% 267/356 [26:23<09:26,  6.37s/it]./results/pifuhd_final/recon/result_frame_0267_256.obj\n",
            " 75% 268/356 [26:29<09:08,  6.23s/it]./results/pifuhd_final/recon/result_frame_0268_256.obj\n",
            " 76% 269/356 [26:36<09:32,  6.57s/it]./results/pifuhd_final/recon/result_frame_0269_256.obj\n",
            " 76% 270/356 [26:41<08:50,  6.17s/it]./results/pifuhd_final/recon/result_frame_0270_256.obj\n",
            " 76% 271/356 [26:46<08:19,  5.88s/it]./results/pifuhd_final/recon/result_frame_0271_256.obj\n",
            " 76% 272/356 [26:53<08:45,  6.26s/it]./results/pifuhd_final/recon/result_frame_0272_256.obj\n",
            " 77% 273/356 [26:58<08:04,  5.84s/it]./results/pifuhd_final/recon/result_frame_0273_256.obj\n",
            " 77% 274/356 [27:03<07:40,  5.61s/it]./results/pifuhd_final/recon/result_frame_0274_256.obj\n",
            " 77% 275/356 [27:11<08:27,  6.26s/it]./results/pifuhd_final/recon/result_frame_0275_256.obj\n",
            " 78% 276/356 [27:17<08:10,  6.13s/it]./results/pifuhd_final/recon/result_frame_0276_256.obj\n",
            " 78% 277/356 [27:22<07:36,  5.78s/it]./results/pifuhd_final/recon/result_frame_0277_256.obj\n",
            " 78% 278/356 [27:28<07:48,  6.00s/it]./results/pifuhd_final/recon/result_frame_0278_256.obj\n",
            " 78% 279/356 [27:35<07:53,  6.15s/it]./results/pifuhd_final/recon/result_frame_0279_256.obj\n",
            " 79% 280/356 [27:40<07:19,  5.78s/it]./results/pifuhd_final/recon/result_frame_0280_256.obj\n",
            " 79% 281/356 [27:46<07:15,  5.80s/it]./results/pifuhd_final/recon/result_frame_0281_256.obj\n",
            " 79% 282/356 [27:53<07:30,  6.09s/it]./results/pifuhd_final/recon/result_frame_0282_256.obj\n",
            " 79% 283/356 [27:58<07:01,  5.77s/it]./results/pifuhd_final/recon/result_frame_0283_256.obj\n",
            " 80% 284/356 [28:03<06:54,  5.76s/it]./results/pifuhd_final/recon/result_frame_0284_256.obj\n",
            " 80% 285/356 [28:11<07:28,  6.32s/it]./results/pifuhd_final/recon/result_frame_0285_256.obj\n",
            " 80% 286/356 [28:16<06:54,  5.92s/it]./results/pifuhd_final/recon/result_frame_0286_256.obj\n",
            " 81% 287/356 [28:22<06:42,  5.84s/it]./results/pifuhd_final/recon/result_frame_0287_256.obj\n",
            " 81% 288/356 [28:29<07:08,  6.30s/it]./results/pifuhd_final/recon/result_frame_0288_256.obj\n",
            " 81% 289/356 [28:34<06:35,  5.90s/it]./results/pifuhd_final/recon/result_frame_0289_256.obj\n",
            " 81% 290/356 [28:39<06:07,  5.57s/it]./results/pifuhd_final/recon/result_frame_0290_256.obj\n",
            " 82% 291/356 [28:47<07:00,  6.47s/it]./results/pifuhd_final/recon/result_frame_0291_256.obj\n",
            " 82% 292/356 [28:52<06:22,  5.97s/it]./results/pifuhd_final/recon/result_frame_0292_256.obj\n",
            " 82% 293/356 [28:57<05:57,  5.67s/it]./results/pifuhd_final/recon/result_frame_0293_256.obj\n",
            " 83% 294/356 [29:05<06:29,  6.28s/it]./results/pifuhd_final/recon/result_frame_0294_256.obj\n",
            " 83% 295/356 [29:11<06:25,  6.32s/it]./results/pifuhd_final/recon/result_frame_0295_256.obj\n",
            " 83% 296/356 [29:17<06:08,  6.14s/it]./results/pifuhd_final/recon/result_frame_0296_256.obj\n",
            " 83% 297/356 [29:24<06:25,  6.53s/it]./results/pifuhd_final/recon/result_frame_0297_256.obj\n",
            " 84% 298/356 [29:29<05:53,  6.10s/it]./results/pifuhd_final/recon/result_frame_0298_256.obj\n",
            " 84% 299/356 [29:35<05:34,  5.87s/it]./results/pifuhd_final/recon/result_frame_0299_256.obj\n",
            " 84% 300/356 [29:42<05:52,  6.29s/it]./results/pifuhd_final/recon/result_frame_0300_256.obj\n",
            " 85% 301/356 [29:48<05:33,  6.06s/it]./results/pifuhd_final/recon/result_frame_0301_256.obj\n",
            " 85% 302/356 [29:53<05:13,  5.80s/it]./results/pifuhd_final/recon/result_frame_0302_256.obj\n",
            " 85% 303/356 [30:00<05:37,  6.36s/it]./results/pifuhd_final/recon/result_frame_0303_256.obj\n",
            " 85% 304/356 [30:06<05:11,  6.00s/it]./results/pifuhd_final/recon/result_frame_0304_256.obj\n",
            " 86% 305/356 [30:11<04:51,  5.71s/it]./results/pifuhd_final/recon/result_frame_0305_256.obj\n",
            " 86% 306/356 [30:18<05:08,  6.18s/it]./results/pifuhd_final/recon/result_frame_0306_256.obj\n",
            " 86% 307/356 [30:24<04:58,  6.09s/it]./results/pifuhd_final/recon/result_frame_0307_256.obj\n",
            " 87% 308/356 [30:29<04:39,  5.82s/it]./results/pifuhd_final/recon/result_frame_0308_256.obj\n",
            " 87% 309/356 [30:36<04:53,  6.24s/it]./results/pifuhd_final/recon/result_frame_0309_256.obj\n",
            " 87% 310/356 [30:42<04:39,  6.08s/it]./results/pifuhd_final/recon/result_frame_0310_256.obj\n",
            " 87% 311/356 [30:47<04:21,  5.81s/it]./results/pifuhd_final/recon/result_frame_0311_256.obj\n",
            " 88% 312/356 [30:54<04:27,  6.08s/it]./results/pifuhd_final/recon/result_frame_0312_256.obj\n",
            " 88% 313/356 [31:00<04:24,  6.15s/it]./results/pifuhd_final/recon/result_frame_0313_256.obj\n",
            " 88% 314/356 [31:05<04:06,  5.87s/it]./results/pifuhd_final/recon/result_frame_0314_256.obj\n",
            " 88% 315/356 [31:12<04:06,  6.02s/it]./results/pifuhd_final/recon/result_frame_0315_256.obj\n",
            " 89% 316/356 [31:18<04:09,  6.24s/it]./results/pifuhd_final/recon/result_frame_0316_256.obj\n",
            " 89% 317/356 [31:23<03:49,  5.89s/it]./results/pifuhd_final/recon/result_frame_0317_256.obj\n",
            " 89% 318/356 [31:29<03:45,  5.93s/it]./results/pifuhd_final/recon/result_frame_0318_256.obj\n",
            " 90% 319/356 [31:36<03:48,  6.17s/it]./results/pifuhd_final/recon/result_frame_0319_256.obj\n",
            " 90% 320/356 [31:41<03:28,  5.80s/it]./results/pifuhd_final/recon/result_frame_0320_256.obj\n",
            " 90% 321/356 [31:46<03:17,  5.65s/it]./results/pifuhd_final/recon/result_frame_0321_256.obj\n",
            " 90% 322/356 [31:54<03:27,  6.11s/it]./results/pifuhd_final/recon/result_frame_0322_256.obj\n",
            " 91% 323/356 [31:59<03:10,  5.76s/it]./results/pifuhd_final/recon/result_frame_0323_256.obj\n",
            " 91% 324/356 [32:03<02:55,  5.48s/it]./results/pifuhd_final/recon/result_frame_0324_256.obj\n",
            " 91% 325/356 [32:11<03:07,  6.06s/it]./results/pifuhd_final/recon/result_frame_0325_256.obj\n",
            " 92% 326/356 [32:16<02:54,  5.83s/it]./results/pifuhd_final/recon/result_frame_0326_256.obj\n",
            " 92% 327/356 [32:21<02:41,  5.57s/it]./results/pifuhd_final/recon/result_frame_0327_256.obj\n",
            " 92% 328/356 [32:28<02:50,  6.10s/it]./results/pifuhd_final/recon/result_frame_0328_256.obj\n",
            " 92% 329/356 [32:34<02:43,  6.07s/it]./results/pifuhd_final/recon/result_frame_0329_256.obj\n",
            " 93% 330/356 [32:39<02:29,  5.73s/it]./results/pifuhd_final/recon/result_frame_0330_256.obj\n",
            " 93% 331/356 [32:48<02:42,  6.52s/it]./results/pifuhd_final/recon/result_frame_0331_256.obj\n",
            " 93% 332/356 [32:55<02:43,  6.82s/it]./results/pifuhd_final/recon/result_frame_0332_256.obj\n",
            " 94% 333/356 [33:00<02:25,  6.33s/it]./results/pifuhd_final/recon/result_frame_0333_256.obj\n",
            " 94% 334/356 [33:08<02:29,  6.78s/it]./results/pifuhd_final/recon/result_frame_0334_256.obj\n",
            " 94% 335/356 [33:14<02:15,  6.47s/it]./results/pifuhd_final/recon/result_frame_0335_256.obj\n",
            " 94% 336/356 [33:20<02:05,  6.29s/it]./results/pifuhd_final/recon/result_frame_0336_256.obj\n",
            " 95% 337/356 [33:27<02:04,  6.57s/it]./results/pifuhd_final/recon/result_frame_0337_256.obj\n",
            " 95% 338/356 [33:33<01:56,  6.49s/it]./results/pifuhd_final/recon/result_frame_0338_256.obj\n",
            " 95% 339/356 [33:39<01:43,  6.09s/it]./results/pifuhd_final/recon/result_frame_0339_256.obj\n",
            " 96% 340/356 [33:45<01:39,  6.23s/it]./results/pifuhd_final/recon/result_frame_0340_256.obj\n",
            " 96% 341/356 [33:51<01:33,  6.24s/it]./results/pifuhd_final/recon/result_frame_0341_256.obj\n",
            " 96% 342/356 [33:56<01:21,  5.84s/it]./results/pifuhd_final/recon/result_frame_0342_256.obj\n",
            " 96% 343/356 [34:02<01:16,  5.88s/it]./results/pifuhd_final/recon/result_frame_0343_256.obj\n",
            " 97% 344/356 [34:09<01:13,  6.16s/it]./results/pifuhd_final/recon/result_frame_0344_256.obj\n",
            " 97% 345/356 [34:14<01:04,  5.86s/it]./results/pifuhd_final/recon/result_frame_0345_256.obj\n",
            " 97% 346/356 [34:20<00:58,  5.88s/it]./results/pifuhd_final/recon/result_frame_0346_256.obj\n",
            " 97% 347/356 [34:33<01:10,  7.83s/it]./results/pifuhd_final/recon/result_frame_0347_256.obj\n",
            " 98% 348/356 [34:39<00:58,  7.30s/it]./results/pifuhd_final/recon/result_frame_0348_256.obj\n",
            " 98% 349/356 [34:47<00:52,  7.49s/it]./results/pifuhd_final/recon/result_frame_0349_256.obj\n",
            " 98% 350/356 [34:52<00:41,  6.86s/it]./results/pifuhd_final/recon/result_frame_0350_256.obj\n",
            " 99% 351/356 [35:02<00:38,  7.77s/it]./results/pifuhd_final/recon/result_frame_0351_256.obj\n",
            " 99% 352/356 [35:08<00:28,  7.24s/it]./results/pifuhd_final/recon/result_frame_0352_256.obj\n",
            " 99% 353/356 [35:13<00:19,  6.52s/it]./results/pifuhd_final/recon/result_frame_0353_256.obj\n",
            " 99% 354/356 [35:19<00:12,  6.36s/it]./results/pifuhd_final/recon/result_frame_0354_256.obj\n",
            "100% 355/356 [35:25<00:06,  6.46s/it]./results/pifuhd_final/recon/result_frame_0355_256.obj\n",
            "100% 356/356 [35:30<00:00,  5.99s/it]\n"
          ]
        }
      ]
    },
    {
      "cell_type": "code",
      "source": [
        "!nvcc --version\n"
      ],
      "metadata": {
        "colab": {
          "base_uri": "https://localhost:8080/"
        },
        "id": "JHP-hczOd8MZ",
        "outputId": "76e18927-33d0-4265-91ff-7f4b314c9cf3"
      },
      "execution_count": null,
      "outputs": [
        {
          "output_type": "stream",
          "name": "stdout",
          "text": [
            "nvcc: NVIDIA (R) Cuda compiler driver\n",
            "Copyright (c) 2005-2022 NVIDIA Corporation\n",
            "Built on Wed_Sep_21_10:33:58_PDT_2022\n",
            "Cuda compilation tools, release 11.8, V11.8.89\n",
            "Build cuda_11.8.r11.8/compiler.31833905_0\n"
          ]
        }
      ]
    },
    {
      "cell_type": "code",
      "source": [
        "import torch\n",
        "\n",
        "print(torch.__version__)"
      ],
      "metadata": {
        "colab": {
          "base_uri": "https://localhost:8080/"
        },
        "id": "TqAQQTlxeOJK",
        "outputId": "e56e8a4b-c4f1-4735-a09f-1d2112243f5d"
      },
      "execution_count": null,
      "outputs": [
        {
          "output_type": "stream",
          "name": "stdout",
          "text": [
            "2.0.0+cu118\n"
          ]
        }
      ]
    },
    {
      "cell_type": "code",
      "source": [
        "# pip install tripy"
      ],
      "metadata": {
        "colab": {
          "base_uri": "https://localhost:8080/"
        },
        "id": "-ilZuS1giOci",
        "outputId": "a742acdb-b63c-4788-947e-0198de0809a8"
      },
      "execution_count": null,
      "outputs": [
        {
          "output_type": "stream",
          "name": "stdout",
          "text": [
            "Collecting tripy\n",
            "  Downloading tripy-1.0.0-py3-none-any.whl (3.7 kB)\n",
            "Installing collected packages: tripy\n",
            "Successfully installed tripy-1.0.0\n"
          ]
        }
      ]
    },
    {
      "cell_type": "code",
      "source": [
        "# pip install imageio"
      ],
      "metadata": {
        "colab": {
          "base_uri": "https://localhost:8080/"
        },
        "id": "R9YNwMMJiV_T",
        "outputId": "88e55902-25a9-43f9-cc1b-5c93bd19c436"
      },
      "execution_count": null,
      "outputs": [
        {
          "output_type": "stream",
          "name": "stdout",
          "text": [
            "Requirement already satisfied: imageio in /usr/local/lib/python3.10/dist-packages (2.31.6)\n",
            "Requirement already satisfied: numpy in /usr/local/lib/python3.10/dist-packages (from imageio) (1.23.5)\n",
            "Requirement already satisfied: pillow<10.1.0,>=8.3.2 in /usr/local/lib/python3.10/dist-packages (from imageio) (9.4.0)\n"
          ]
        }
      ]
    },
    {
      "cell_type": "code",
      "source": [
        "# for i in range(len(os.listdir(output_directory))):\n",
        "#   obj_list.append"
      ],
      "metadata": {
        "id": "t8G09XJ3jj2S"
      },
      "execution_count": null,
      "outputs": []
    },
    {
      "cell_type": "code",
      "source": [
        "# import cv2\n",
        "# import numpy as np\n",
        "# from tripy import Vector, earclip\n",
        "# import imageio\n",
        "\n",
        "# def render_mesh(obj_path):\n",
        "#     # Load the .obj file (replace with your actual loading logic)\n",
        "#     vertices, faces = load_obj(obj_path)\n",
        "\n",
        "#     # Render the 3D mesh using tripy for simplicity\n",
        "#     image_size = (640, 480)  # Adjust as needed\n",
        "#     image = np.zeros((image_size[1], image_size[0], 3), dtype=np.uint8)\n",
        "\n",
        "#     for face in faces:\n",
        "#         # Triangulate each face using earclip\n",
        "#         triangles = earclip([Vector(*vertices[v]) for v in face])\n",
        "\n",
        "#         # Draw triangles on the image\n",
        "#         for triangle in triangles:\n",
        "#             cv2.fillPoly(image, [np.array(triangle)], color=(255, 255, 255))\n",
        "\n",
        "#     return image\n",
        "\n",
        "# def create_video(obj_list, output_video_path='output_video.mp4'):\n",
        "#     # OpenCV video writer settings\n",
        "#     frame_width, frame_height = render_mesh(obj_list[0]).shape[1], render_mesh(obj_list[0]).shape[0]\n",
        "#     out = cv2.VideoWriter(output_video_path, cv2.VideoWriter_fourcc(*'mp4v'), 30, (frame_width, frame_height))\n",
        "\n",
        "#     for obj_path in obj_list:\n",
        "#         # Render each frame and write it to the video\n",
        "#         frame = render_mesh(obj_path)\n",
        "#         out.write(frame)\n",
        "\n",
        "#     # Release the video writer\n",
        "#     out.release()\n",
        "\n",
        "# # Example obj_list containing paths to .obj files\n",
        "# obj_list = ['path/to/mesh1.obj', 'path/to/mesh2.obj', 'path/to/mesh3.obj']\n",
        "# create_video(obj_list)\n"
      ],
      "metadata": {
        "id": "4iBu712Qicnq"
      },
      "execution_count": null,
      "outputs": []
    }
  ]
}